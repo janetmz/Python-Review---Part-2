{
 "cells": [
  {
   "cell_type": "markdown",
   "id": "d50a2161",
   "metadata": {},
   "source": [
    "# Python Review #2\n",
    "\n",
    "Using what you learned in the modules, answer the questions below. Take your time and use all the information in the modules as your guide and resource. This isn't about memorization - this is about practicing skills! Good Luck!"
   ]
  },
  {
   "cell_type": "markdown",
   "id": "e637bcf4",
   "metadata": {},
   "source": [
    "## Module 4 Review"
   ]
  },
  {
   "cell_type": "markdown",
   "id": "98001a9c",
   "metadata": {},
   "source": [
    "#### REMOVING VALUES FROM LIST\n",
    "\n",
    "Lists are changeable, which means you can remove values to a list after you have defined the list initially. \n",
    "\n",
    "The .pop() function will remove a single item from your list. This function allows you to only remove a single value at a time. You have the option to provide the function with the index-position of where the item you want to remove is located. However, if you don't specify a specific index, the function will automatically remove the last item from the list. To use the function, see an example below:\n",
    "\n",
    "    list_name.pop( index_of_item_to_remove )\n",
    "    \n",
    "    colors.pop(3)\n",
    "    \n",
    "The .remove() function will remove a specific item from a list (you provide the item label/value and the function will search and remove that specific item). If an item/value is repeated within your list, this function will only remove the first instance. To use the function, see an example below:\n",
    "\n",
    "    list_name.remove( item_to_remove )\n",
    "    \n",
    "    colors.remove(\"green-3\")\n",
    "    \n",
    "1. Create a list of shapes below. This list should have at least 3 values. Print the list. \n",
    "2. Use the pop function to remove a shape from your list. Print the list.\n",
    "3. Use the remove function to remove a shape to your list. You should remove the shape in index position 2. Print your list.\n",
    "4. Use the pop function to remove the last item in your list. Print the list. "
   ]
  },
  {
   "cell_type": "code",
   "execution_count": 16,
   "id": "11fdc55f",
   "metadata": {},
   "outputs": [
    {
     "name": "stdout",
     "output_type": "stream",
     "text": [
      "['rhombus', 'trapezoid', 'cone', 'sphere', 'square', 'rectangle', 'circle']\n"
     ]
    }
   ],
   "source": [
    "#Create a list of shapes below. This list should have at least 3 values. Print the list.\n",
    "shapes = [\"rhombus\",\"trapezoid\",\"cone\",\"sphere\",\"square\",\"rectangle\",\"circle\"]\n",
    "print (shapes)"
   ]
  },
  {
   "cell_type": "code",
   "execution_count": 17,
   "id": "87c18909",
   "metadata": {},
   "outputs": [
    {
     "name": "stdout",
     "output_type": "stream",
     "text": [
      "['rhombus', 'trapezoid', 'cone', 'sphere', 'square', 'circle']\n"
     ]
    }
   ],
   "source": [
    "#Use the pop function to remove a shape from your list. Print the list.\n",
    "shapes.pop (5)\n",
    "print (shapes)"
   ]
  },
  {
   "cell_type": "code",
   "execution_count": 18,
   "id": "25a26cbd",
   "metadata": {},
   "outputs": [
    {
     "name": "stdout",
     "output_type": "stream",
     "text": [
      "['rhombus', 'trapezoid', 'sphere', 'square', 'circle']\n"
     ]
    }
   ],
   "source": [
    "#Use the remove function to remove a shape to your list. You should remove the shape in index position 2. Print your list.\n",
    "shapes.remove(\"cone\")\n",
    "print (shapes)"
   ]
  },
  {
   "cell_type": "code",
   "execution_count": 19,
   "id": "498a573a",
   "metadata": {},
   "outputs": [
    {
     "data": {
      "text/plain": [
       "'circle'"
      ]
     },
     "execution_count": 19,
     "metadata": {},
     "output_type": "execute_result"
    }
   ],
   "source": [
    "#Use the pop function to remove the last item in your list. Print the list.\n",
    "shapes.pop()"
   ]
  },
  {
   "cell_type": "markdown",
   "id": "e46e6d07",
   "metadata": {},
   "source": [
    "#### SORTING A LIST\n",
    "\n",
    "The .sort() function allows you to re-order a list in ascending or descending order. If the list includes only numbers, this means the numbers will be ordered from least to greatest (or from greatest to least). If the list includes strings/text, the list will be sorted in alphabetical order (or reverse alphabetical order). To use the function, see the example below: \n",
    "\n",
    "        list_name.sort() >> by default, this will sort the list in ascending order\n",
    "        colors.sort()\n",
    "        \n",
    "To change the direction in which items are sorted, you can add an option within the parentheses that sorts the list in the reverse direction (reverse = True). See the example below:\n",
    "        \n",
    "        list_name.sort(reverse = True)\n",
    "        colors.sort(reverse = True)\n",
    "\n",
    "1. Create a list of 4 integers. Print the list. \n",
    "2. Sort the list in ascending order. \n",
    "3. In a new cell, sort the same list in descending order. "
   ]
  },
  {
   "cell_type": "code",
   "execution_count": 22,
   "id": "79431edb",
   "metadata": {},
   "outputs": [
    {
     "name": "stdout",
     "output_type": "stream",
     "text": [
      "[34, 11, 78, 4]\n"
     ]
    }
   ],
   "source": [
    "#Create a list of 4 integers. Print the list.\n",
    "my_integers = [34, 11, 78, 4]\n",
    "print (my_integers)"
   ]
  },
  {
   "cell_type": "code",
   "execution_count": 23,
   "id": "86fd7b0f",
   "metadata": {},
   "outputs": [
    {
     "name": "stdout",
     "output_type": "stream",
     "text": [
      "[4, 11, 34, 78]\n"
     ]
    }
   ],
   "source": [
    "#Sort the list in ascending order.\n",
    "my_integers.sort()\n",
    "print (my_integers)"
   ]
  },
  {
   "cell_type": "code",
   "execution_count": 25,
   "id": "3550872b",
   "metadata": {},
   "outputs": [
    {
     "name": "stdout",
     "output_type": "stream",
     "text": [
      "[78, 34, 11, 4]\n"
     ]
    }
   ],
   "source": [
    "#In a new cell, sort the same list in descending order.\n",
    "my_integers = [34, 11, 78, 4]\n",
    "my_integers.sort(reverse=True)\n",
    "print (my_integers)"
   ]
  },
  {
   "cell_type": "markdown",
   "id": "cca1d63c",
   "metadata": {},
   "source": [
    "#### FOR-LOOPS\n",
    "\n",
    "Python has several types of loops that are used to iterate through a set of information. <b>For Loops</b> are used to apply a function on each item in a specific list. For example, if you want to apply the print() function to each item in a list (aka you want to individually print out each item listed), you can do so with a for loop. The basic structure of a for-loop is as follows:\n",
    "\n",
    "        for item in list_of_items:\n",
    "            statement 1\n",
    "            statement 2\n",
    "            statement 3\n",
    "\n",
    "This can be read as \"For each Item in the list of Items, perform the following tasks...\". The for loop will then take each item in the list - one by one - and apply the specific statements to each item. See below for an example:\n",
    "    \n",
    "    my_list = [\"a\", \"b\", \"c\", \"d\"]\n",
    "    \n",
    "Below I'm going to create a for loop that will iterate through my_list and print each item from the list. In the for loop, the \"i\" stands for item.\n",
    "\n",
    "    for i in my_list:\n",
    "        print (i)\n",
    "The output for the for-loop with be as follows:\n",
    "\n",
    "    a\n",
    "    b\n",
    "    c\n",
    "    d\n",
    "\n",
    "Complete the code below to create a series of for-loops. "
   ]
  },
  {
   "cell_type": "code",
   "execution_count": 1,
   "id": "703dbe84",
   "metadata": {},
   "outputs": [
    {
     "name": "stdout",
     "output_type": "stream",
     "text": [
      "red\n",
      "orange\n",
      "purple\n",
      "white\n",
      "green\n",
      "red--orange--purple--white--green--"
     ]
    }
   ],
   "source": [
    "colors = [\"red\", \"orange\", \"purple\", \"white\", \"green\"]\n",
    "\n",
    "## using the list above, create a for-loop that prints each color from the list\n",
    "for item in colors:\n",
    "    print (item)\n",
    "for item in colors:\n",
    "    print (item, end = \"--\")\n"
   ]
  },
  {
   "cell_type": "code",
   "execution_count": 27,
   "id": "a554fe60",
   "metadata": {},
   "outputs": [
    {
     "name": "stdout",
     "output_type": "stream",
     "text": [
      "soda 4\n",
      "coffee 6\n",
      "tea 3\n",
      "milk 4\n",
      "water 5\n"
     ]
    }
   ],
   "source": [
    "drinks = [\"soda\", \"coffee\", \"tea\", \"milk\", \"water\"]\n",
    "\n",
    "## using the list above, create a for-loop that prints the name of each color and the length of each string \n",
    "# how many characters are in the name of the color?\n",
    "for item in drinks:\n",
    "    print (item,len(item))\n"
   ]
  },
  {
   "cell_type": "code",
   "execution_count": 28,
   "id": "92720938",
   "metadata": {},
   "outputs": [
    {
     "name": "stdout",
     "output_type": "stream",
     "text": [
      "My favorite drink is soda\n",
      "My favorite drink is coffee\n",
      "My favorite drink is tea\n",
      "My favorite drink is milk\n",
      "My favorite drink is water\n"
     ]
    }
   ],
   "source": [
    "drinks = [\"soda\", \"coffee\", \"tea\", \"milk\", \"water\"]\n",
    "\n",
    "## using the same drinks list, create a for-loop that prints the sentence \"My favorite drink is ..\" and then fill in the name of each color\n",
    "for item in drinks:\n",
    "    print (f\"My favorite drink is {item}\")\n"
   ]
  },
  {
   "cell_type": "code",
   "execution_count": 31,
   "id": "4bb84e9a",
   "metadata": {},
   "outputs": [
    {
     "name": "stdout",
     "output_type": "stream",
     "text": [
      "{15}\n",
      "{25}\n",
      "{35}\n",
      "{45}\n",
      "{55}\n"
     ]
    }
   ],
   "source": [
    "numbers = [10, 20, 30, 40, 50]\n",
    "\n",
    "## using the list above, create a for-loop that adds 5 to each value in the list and then prints the value \n",
    "for item in numbers:\n",
    "    print ({item+5})\n"
   ]
  },
  {
   "cell_type": "code",
   "execution_count": null,
   "id": "b1b86f7b",
   "metadata": {},
   "outputs": [],
   "source": []
  },
  {
   "cell_type": "markdown",
   "id": "4d3cda51",
   "metadata": {},
   "source": [
    "#### RANGE FUNCTION \n",
    "\n",
    "The range function creates a sequence of numbers starting from a given integer and stopping before a given integer (inclusive -> exclusive). The range function can be useful when incorporated into loops. The range function defaults to a 0 starting value but this can be altered, for example:\n",
    "\n",
    "        range(0, 10) returns the values 0 through 9\n",
    "        range(0, 11) returns the values 0 through 10\n",
    "        range(2, 7) returns the values 2 through 6\n",
    "        range(-1, 10) returns the values -1 through 9\n",
    "        \n",
    "To use the range function, you can include it in a for-loop. The for-loop will iterate through the list of numbers and print them out one by one. Below I'm going to create a for loop that will iterate through a sequence of numbers and print each number. In the for loop, the \"i\" stands for integer.\n",
    "\n",
    "    for i in range(0, 6):\n",
    "        print (i)\n",
    "        \n",
    "This can be read as \"For each integer in the range 0 through 10, print the integer\". The output for the for-loop with be as follows:\n",
    "\n",
    "    1\n",
    "    2\n",
    "    3\n",
    "    4\n",
    "    5\n",
    "\n",
    "Complete the code below to create a series of for-loops using the range function. "
   ]
  },
  {
   "cell_type": "code",
   "execution_count": 33,
   "id": "34d7bdaf",
   "metadata": {},
   "outputs": [
    {
     "name": "stdout",
     "output_type": "stream",
     "text": [
      "0\n",
      "1\n",
      "2\n",
      "3\n"
     ]
    }
   ],
   "source": [
    "## complete the code to print a list of integers ranging from 0 to 3.\n",
    "\n",
    "for i in range(0,4):\n",
    "    print(i)"
   ]
  },
  {
   "cell_type": "code",
   "execution_count": 34,
   "id": "91aae893",
   "metadata": {},
   "outputs": [
    {
     "name": "stdout",
     "output_type": "stream",
     "text": [
      "-1\n",
      "0\n",
      "1\n",
      "2\n",
      "3\n",
      "4\n",
      "5\n",
      "6\n",
      "7\n",
      "8\n",
      "9\n"
     ]
    }
   ],
   "source": [
    "## complete the code to print a list of integers ranging from -1 to 9.\n",
    "\n",
    "for i in range(-1,10):\n",
    "    print(i)"
   ]
  },
  {
   "cell_type": "code",
   "execution_count": 35,
   "id": "35108002",
   "metadata": {},
   "outputs": [
    {
     "name": "stdout",
     "output_type": "stream",
     "text": [
      "5\n",
      "6\n",
      "7\n",
      "8\n",
      "9\n",
      "10\n"
     ]
    }
   ],
   "source": [
    "## complete the code to add 5 to a series of integers ranging from 0 to 5.\n",
    "\n",
    "for i in range(0,6):\n",
    "    i += 5\n",
    "    print(i)"
   ]
  },
  {
   "cell_type": "code",
   "execution_count": 36,
   "id": "0cc56b0e",
   "metadata": {},
   "outputs": [
    {
     "name": "stdout",
     "output_type": "stream",
     "text": [
      "10\n",
      "20\n",
      "30\n",
      "40\n",
      "50\n",
      "60\n",
      "70\n",
      "80\n"
     ]
    }
   ],
   "source": [
    "## complete the code to multiply a series of integers ranging from 1 to 8 by 10. \n",
    "\n",
    "for i in range(1,9):\n",
    "    i *= 10\n",
    "    print(i)"
   ]
  },
  {
   "cell_type": "markdown",
   "id": "8e975a93",
   "metadata": {},
   "source": [
    "#### WHILE LOOPS\n",
    "\n",
    "The while loop is another type of Python loop. With the while loop, we can execute a set of statements as long as a condition is true. That condition is listed at the top of the statement and underneath the statement is where you will list all the items you want executed while that statement is true. For example:\n",
    "\n",
    "    i = 1\n",
    "    \n",
    "    while i < 6:\n",
    "        print(i)\n",
    "\n",
    "The above while loop will print the value of \"i\" for as long as \"i\" is less than 6. This is because the condition that is being checked for truth is \"i < 6\". If this is true, the loop continues (indefinitely) - but as soon as this statement is no longer true, the loop will stop. The above loop is an infinity loop and will never stop running. This is because the value of \"i\" is always going to be 1 - which is always going to be less than 6, which means the conditional statement will never be untrue. We can modify our code so that this is not an infinity loop by adding a statement that adds \"1\" to the value of \"i\" after each successful loop. \n",
    "\n",
    "    i = 1\n",
    "    \n",
    "    while i < 6:\n",
    "        print(i)\n",
    "        i = i + 1\n",
    "        \n",
    "The loop will flow in the following way:\n",
    "\n",
    "1. Check the conditional statement for truth (is i less than 6?); if yes, continue to the first statement underneath; if no, end the loop. \n",
    "2. The starting value of \"i\" is 1, therefore, the conditional statement is true. We can continue with the first statement listed underneath the conditional statement. \n",
    "3. We print the value of \"i\" because that is the first item listed underneath the conditional statement. On the first iteration of the loop, this means we are printing the value \"1\". \n",
    "4. We continue executing the statements underneath the conditional statement in the order they are listed. The next statement is i = i + 1 (this can also be written as i += 1); this means we are going to take whatever the value of \"i\" is and add 1 to it. Then we are going to save that result as the new value of \"i\". This is going to happen at the end of each successful loop. At the end of the first loop, \"i\" will have a value of \"2\". \n",
    "5. We've reached the end of our listed statements under the conditional statement, now it is time to go back to the top of the list and try everything again for iteration #2. \n",
    "6. Start again at the conditional statement - at the beginning of each iteration, the conditional statement is re-checked for truth. If it is still true, we cycle through the listed statements again (print the value of \"i\" and add 1 to the current value of \"i\"). \n",
    "7. This cycle will continue until the conditional statement is no longer true; therefore, in this example, this cycle will continue until \"i\" is greater than \n",
    "\n",
    "\n",
    "Complete the code below to execute a series of while loops. "
   ]
  },
  {
   "cell_type": "code",
   "execution_count": 37,
   "id": "1d42d6be",
   "metadata": {},
   "outputs": [
    {
     "name": "stdout",
     "output_type": "stream",
     "text": [
      "0\n",
      "1\n",
      "2\n"
     ]
    }
   ],
   "source": [
    "## complete the code below to prevent the while loop from becoming an infinity loop\n",
    "## add a line of code to stop the loop after 3 iterations\n",
    "\n",
    "i = 0\n",
    "\n",
    "while i < 3:\n",
    "    print(i)\n",
    "    i = i+1 ## add a line of code here"
   ]
  },
  {
   "cell_type": "code",
   "execution_count": 2,
   "id": "626e0f8d",
   "metadata": {},
   "outputs": [
    {
     "name": "stdout",
     "output_type": "stream",
     "text": [
      "181 degrees is too hot to drink your tea, let it cool.\n",
      "175 degrees is too hot to drink your tea, let it cool.\n",
      "169 degrees is too hot to drink your tea, let it cool.\n",
      "163 degrees is too hot to drink your tea, let it cool.\n",
      "157 degrees is too hot to drink your tea, let it cool.\n",
      "151 degrees is too hot to drink your tea, let it cool.\n",
      "145 degrees is too hot to drink your tea, let it cool.\n",
      "139 degrees is too hot to drink your tea, let it cool.\n",
      "Your tea is 133 and cool enough to drink. Enjoy!\n"
     ]
    }
   ],
   "source": [
    "## each minute you let your tea sit, it cools down 6 degrees. \n",
    "## how many minutes pass before you can drink your tea?\n",
    "## run the while-loop below and count the number of loops it made.\n",
    "\n",
    "temp = 181\n",
    "\n",
    "while temp > 135:\n",
    "    print(f\"{temp} degrees is too hot to drink your tea, let it cool.\")\n",
    "    temp = temp - 6\n",
    "    \n",
    "print(f\"Your tea is {temp} and cool enough to drink. Enjoy!\")"
   ]
  },
  {
   "cell_type": "code",
   "execution_count": 39,
   "id": "447c6557",
   "metadata": {},
   "outputs": [
    {
     "name": "stdout",
     "output_type": "stream",
     "text": [
      "1\n",
      "2\n",
      "3\n",
      "4\n",
      "5\n",
      "6\n",
      "7\n",
      "8\n",
      "9\n",
      "10\n"
     ]
    }
   ],
   "source": [
    "## create a while loop that returns numbers 1 through 10\n",
    "## once you get to 10, the loop should naturally end\n",
    "\n",
    "i = 1\n",
    "\n",
    "while i <=10:\n",
    "    print (i)\n",
    "    i+=1\n"
   ]
  },
  {
   "cell_type": "markdown",
   "id": "aacf4f3e",
   "metadata": {},
   "source": [
    "## Module 5 Review"
   ]
  },
  {
   "cell_type": "markdown",
   "id": "f2d82ce3",
   "metadata": {},
   "source": [
    "#### DICTIONARIES\n",
    "\n",
    "A dictionary is another Python data type that holds a collection of items within one variable name. Unlike a list or tuples, dictionaries don't hold single values - they hold paired values. Each pair is called an <b>item</b>, and each item contains a <b>key</b> and a <b>value</b>. The key is separated by a value with a \" : \" and each item within the dictionary is separated by a comma. The entire dictionary is contained within curly brackets ( {} ). See below for an example:\n",
    "\n",
    "    my_dictionary = {key_1 : value_1, key_2 : value_2, key_3 : value_3...}\n",
    "\n",
    "A dictionary is ordered (it can be indexed), changeable (you can add, remove, and manipulate the items within), and it does not allow for duplicate keys. \n",
    "\n",
    "1. Create a dictionary called \"roommates\". This dictionary will include only two items - the name and age of each person living in a house. The name is the KEY and the age is the VALUE. Print the dictionary. Use the following information to construct the dictionary:\n",
    "    * Sarah is 19 years old\n",
    "    * Margaret is 23 years old"
   ]
  },
  {
   "cell_type": "code",
   "execution_count": 41,
   "id": "3315ca4c",
   "metadata": {},
   "outputs": [
    {
     "name": "stdout",
     "output_type": "stream",
     "text": [
      "{'Sarah': 19, 'Margaret': 23}\n"
     ]
    }
   ],
   "source": [
    "#Create a dictionary called \"roommates\". This dictionary will include only two items -  - the name and age of each person living in a house. \n",
    "roommates = {\"Sarah\": 19, \"Margaret\": 23}\n",
    "print (roommates)"
   ]
  },
  {
   "cell_type": "markdown",
   "id": "1dbc220c",
   "metadata": {},
   "source": [
    "#### ACCESSING A DICTIONARY P1\n",
    "\n",
    "Identifying the items that are stored within your dictionary allows you to understand what the dictionary includes. Use the .get() function to retrieve a value from your dictionary. The .get() function requires you to input a dictionary KEY and it will return the value associated with that specific KEY. To use the function, follow the example below:\n",
    "\n",
    "    my_dictionary = [key1 : value1, key2 : value2]\n",
    "    \n",
    "To get the value of \"value2\" we can use the .get() function in the following way:\n",
    "    \n",
    "    my_dictionary.get(\"key2\")\n",
    "    \n",
    "The function will search for the specific key and return whichever value is associated with that key. \n",
    "\n",
    "Complete the code below to retrieve specific values from a dictionary that contains the first and last names of famous people throughout history. In this example, the keys are the first names and the values are the last names. "
   ]
  },
  {
   "cell_type": "code",
   "execution_count": 42,
   "id": "d20f62c2",
   "metadata": {},
   "outputs": [],
   "source": [
    "## run this cell to define the dictionary\n",
    "\n",
    "famous = {\"Marilyn\":\"Monroe\", \"Ab\":\"Lincoln\", \"Nelson\":\"Mandela\", \"Bill\":\"Gates\", \"Charles\":\"Darwin\", \"Rosa\":\"Parks\", \"John\":\"Lennon\", \"Pablo\":\"Picasso\"}"
   ]
  },
  {
   "cell_type": "code",
   "execution_count": 43,
   "id": "e62fa3d5",
   "metadata": {},
   "outputs": [
    {
     "data": {
      "text/plain": [
       "'Mandela'"
      ]
     },
     "execution_count": 43,
     "metadata": {},
     "output_type": "execute_result"
    }
   ],
   "source": [
    "## get the last name of the person called \"Nelson\"\n",
    "famous.get(\"Nelson\")\n"
   ]
  },
  {
   "cell_type": "code",
   "execution_count": 44,
   "id": "8b5e6bb9",
   "metadata": {},
   "outputs": [
    {
     "data": {
      "text/plain": [
       "'Parks'"
      ]
     },
     "execution_count": 44,
     "metadata": {},
     "output_type": "execute_result"
    }
   ],
   "source": [
    "## get the last name of the person called \"Rosa\"\n",
    "famous.get(\"Rosa\")\n"
   ]
  },
  {
   "cell_type": "code",
   "execution_count": 45,
   "id": "a0d01731",
   "metadata": {},
   "outputs": [
    {
     "data": {
      "text/plain": [
       "'Lennon'"
      ]
     },
     "execution_count": 45,
     "metadata": {},
     "output_type": "execute_result"
    }
   ],
   "source": [
    "## get the last name of the person called \"John\"\n",
    "famous.get(\"John\")\n"
   ]
  },
  {
   "cell_type": "markdown",
   "id": "40b7e9fc",
   "metadata": {},
   "source": [
    "#### ACCESSING A DICTIONARY P2\n",
    "\n",
    "Identifying the items that are stored within your dictionary allows you to understand what the dictionary includes. Use the .keys() function to return a list of all the keys in your dictionary. To use the function, look at the example below:\n",
    "\n",
    "    my_dictionary = [key1 : value1, key2 : value2]\n",
    "\n",
    "To get a list of all the keys stored in the dictionary, use the following code:\n",
    "\n",
    "    my_dictionary.keys()\n",
    "    \n",
    "The output for this code will be:\n",
    "\n",
    "    key1\n",
    "    key2\n",
    "    \n",
    "Complete the code below to retrieve all the keys associated with the dictionary of famous people. "
   ]
  },
  {
   "cell_type": "code",
   "execution_count": 46,
   "id": "587c0e1a",
   "metadata": {},
   "outputs": [],
   "source": [
    "## run this cell to define the dictionary\n",
    "\n",
    "famous = {\"Marilyn\":\"Monroe\", \"Ab\":\"Lincoln\", \"Nelson\":\"Mandela\", \"Bill\":\"Gates\", \"Charles\":\"Darwin\", \"Rosa\":\"Parks\", \"John\":\"Lennon\", \"Pablo\":\"Picasso\"}"
   ]
  },
  {
   "cell_type": "code",
   "execution_count": 47,
   "id": "55b7ce3b",
   "metadata": {},
   "outputs": [
    {
     "data": {
      "text/plain": [
       "dict_keys(['Marilyn', 'Ab', 'Nelson', 'Bill', 'Charles', 'Rosa', 'John', 'Pablo'])"
      ]
     },
     "execution_count": 47,
     "metadata": {},
     "output_type": "execute_result"
    }
   ],
   "source": [
    "## write the code to retrive all the keys associated with this dictionary\n",
    "famous.keys()\n"
   ]
  },
  {
   "cell_type": "markdown",
   "id": "4913c57c",
   "metadata": {},
   "source": [
    "#### ACCESSING A DICTIONARY P3\n",
    "\n",
    "Identifying the items that are stored within your dictionary allows you to understand what the dictionary includes. Use the .values() function to return a list of all the values in your dictionary. To use the function, look at the example below:\n",
    "\n",
    "    my_dictionary = [key1 : value1, key2 : value2]\n",
    "\n",
    "To get a list of all the values stored in the dictionary, use the following code:\n",
    "\n",
    "    my_dictionary.values()\n",
    "    \n",
    "The output for this code will be:\n",
    "\n",
    "    value1\n",
    "    value2\n",
    "    \n",
    "Complete the code below to retrieve all the values associated with the dictionary of famous people. "
   ]
  },
  {
   "cell_type": "code",
   "execution_count": 66,
   "id": "b06940de",
   "metadata": {},
   "outputs": [],
   "source": [
    "## run this cell to define the dictionary\n",
    "\n",
    "famous = {\"Marilyn\":\"Monroe\", \"Ab\":\"Lincoln\", \"Nelson\":\"Mandela\", \"Bill\":\"Gates\", \"Charles\":\"Darwin\", \"Rosa\":\"Parks\", \"John\":\"Lennon\", \"Pablo\":\"Picasso\"}"
   ]
  },
  {
   "cell_type": "code",
   "execution_count": 49,
   "id": "d169aae4",
   "metadata": {},
   "outputs": [
    {
     "data": {
      "text/plain": [
       "dict_values(['Monroe', 'Lincoln', 'Mandela', 'Gates', 'Darwin', 'Parks', 'Lennon', 'Picasso'])"
      ]
     },
     "execution_count": 49,
     "metadata": {},
     "output_type": "execute_result"
    }
   ],
   "source": [
    "## write the code to retrive all the values associated with this dictionary\n",
    "famous.values()"
   ]
  },
  {
   "cell_type": "markdown",
   "id": "59bbe783",
   "metadata": {},
   "source": [
    "#### CHANGING DICTIONARY ITEMS\n",
    "\n",
    "Dictionaries are changeable -- meaning you can add, remove, and modify items stored within the dictionary. To modify or edit items within your dictionary, you can use the .update() function. You can use this function to update a value given a specific key. To use the function, see the example below:\n",
    "\n",
    "    my_dictionary = [key1 : value1, key2 : value2]\n",
    "    \n",
    "I want to update the second item to \"value_2\". See below for the code to do this:\n",
    "\n",
    "    my_dictionary.update({\"key_name\" : \"new_value\"})\n",
    "    \n",
    "Within the parentheses of the update() function, you will add a mini dictionary of the items you want to update. This includes adding the curly brackets around the items you want to modify. For example:\n",
    "\n",
    "    my_dictionary.update({\"key2\" : \"value_2\"})\n",
    "    \n",
    "This will change my dictionary from the original to this:\n",
    "\n",
    "    my_dictionary = [key1 : value1, key2 : value_2]\n",
    "    \n",
    "1. Using the dictionary 'famous' shown above, update the last name of Marilyn Monroe to \"Mortenson\". The key should stay the same, you are just updating the value. "
   ]
  },
  {
   "cell_type": "code",
   "execution_count": 61,
   "id": "7e66c8d2",
   "metadata": {},
   "outputs": [
    {
     "data": {
      "text/plain": [
       "dict_items([('Marilyn', 'Mortenson'), ('Ab', 'Lincoln'), ('Nelson', 'Mandela'), ('Bill', 'Gates'), ('Charles', 'Darwin'), ('Rosa', 'Parks'), ('John', 'Lennon'), ('Pablo', 'Picasso')])"
      ]
     },
     "execution_count": 61,
     "metadata": {},
     "output_type": "execute_result"
    }
   ],
   "source": [
    "famous.update({\"Marilyn\": \"Mortenson\"})\n",
    "famous.items()"
   ]
  },
  {
   "cell_type": "code",
   "execution_count": null,
   "id": "86b2610d",
   "metadata": {},
   "outputs": [],
   "source": []
  },
  {
   "cell_type": "markdown",
   "id": "50127f01",
   "metadata": {},
   "source": [
    "#### ADDING ITEMS TO DICTIONARY \n",
    "\n",
    "You can use the .update() function to add new items to a dictionary. To do this, follow the same steps as above but when you create your 'mini dictionary', you can insert 1 or multiple new entries. \n",
    "\n",
    "    my_dictionary = [key1 : value1, key2 : value2]\n",
    "\n",
    "I want to add two additional items to the end of my dictionary.\n",
    "\n",
    "    my_dictionary.update({\"key3\" : \"value3\", \"key4\" : \"value4\"})\n",
    "    \n",
    "If I run the above code, my dictionary will change from the original to the following:\n",
    "\n",
    "    my_dictionary = [key1 : value1, key2 : value2, key3 : value3, key4 : value4]\n",
    "    \n",
    "Using the famous dictionary shown above, add two additional famous people to the end of the list using the update() function. "
   ]
  },
  {
   "cell_type": "code",
   "execution_count": 67,
   "id": "c353136d",
   "metadata": {},
   "outputs": [
    {
     "data": {
      "text/plain": [
       "dict_items([('Marilyn', 'Monroe'), ('Ab', 'Lincoln'), ('Nelson', 'Mandela'), ('Bill', 'Gates'), ('Charles', 'Darwin'), ('Rosa', 'Parks'), ('John', 'Lennon'), ('Pablo', 'Picasso'), ('Bobby', 'Kennedy'), ('Alan', 'Shepard')])"
      ]
     },
     "execution_count": 67,
     "metadata": {},
     "output_type": "execute_result"
    }
   ],
   "source": [
    "famous = {\"Marilyn\":\"Monroe\", \"Ab\":\"Lincoln\", \"Nelson\":\"Mandela\", \"Bill\":\"Gates\", \"Charles\":\"Darwin\", \"Rosa\":\"Parks\", \"John\":\"Lennon\", \"Pablo\":\"Picasso\"}\n",
    "famous.update({\"Bobby\":\"Kennedy\", \"Alan\":\"Shepard\"})\n",
    "famous.items()"
   ]
  },
  {
   "cell_type": "markdown",
   "id": "639e67f1",
   "metadata": {},
   "source": [
    "#### REMOVING ITEMS FROM DICTIONARY\n",
    "\n",
    "You can use several functions to remove items from your dictionary. The most important functions to remember are:\n",
    "    \n",
    "<b> .pop() function removes a specific item given a specific key </b>\n",
    "    \n",
    "    my_dictionary = [key1 : value1, key2 : value2]\n",
    "    \n",
    "    my_dictionary.pop(\"key1\") >> this will remove the key-value pair with key \"key1\"\n",
    "    \n",
    "<b> .popitem() function removes the last item listed in the dictionary </b>\n",
    "\n",
    "    my_dictionary = [key1 : value1, key2 : value2]\n",
    "    \n",
    "    my_dictionary.popitem() >> this will remove the last item in the dictionary\n",
    "    \n",
    "<b> .clear() function removes all items from a dictionary </b>\n",
    "\n",
    "    my_dictionary = [key1 : value1, key2 : value2]\n",
    "    \n",
    "    my_dictionary.clear() >> this will remove all items from the dictionary\n",
    "    \n",
    "Using the famous dictionary below, answer the following questions:\n",
    "1. Remove \"Bill Gates\" from the dictionary. Print the dictionary. \n",
    "2. Remove \"John Lennon\" from the dictionary. Print the dictionary. \n",
    "3. Remove the last item from the dictionary. Print the dictionary. "
   ]
  },
  {
   "cell_type": "code",
   "execution_count": 1,
   "id": "533ab09f",
   "metadata": {},
   "outputs": [],
   "source": [
    "## run this cell to define the dictionary\n",
    "\n",
    "famous = {\"Marilyn\":\"Monroe\", \"Ab\":\"Lincoln\", \"Nelson\":\"Mandela\", \"Bill\":\"Gates\", \"Charles\":\"Darwin\", \"Rosa\":\"Parks\", \"John\":\"Lennon\", \"Pablo\":\"Picasso\"}"
   ]
  },
  {
   "cell_type": "code",
   "execution_count": 2,
   "id": "f2bc1fc8",
   "metadata": {},
   "outputs": [
    {
     "data": {
      "text/plain": [
       "dict_items([('Marilyn', 'Monroe'), ('Ab', 'Lincoln'), ('Nelson', 'Mandela'), ('Charles', 'Darwin'), ('Rosa', 'Parks'), ('John', 'Lennon'), ('Pablo', 'Picasso')])"
      ]
     },
     "execution_count": 2,
     "metadata": {},
     "output_type": "execute_result"
    }
   ],
   "source": [
    "#Remove \"Bill Gates\" from the dictionary. Print the dictionary.\n",
    "famous.pop(\"Bill\")\n",
    "famous.items()"
   ]
  },
  {
   "cell_type": "code",
   "execution_count": 4,
   "id": "be79d430",
   "metadata": {},
   "outputs": [
    {
     "data": {
      "text/plain": [
       "dict_items([('Marilyn', 'Monroe'), ('Ab', 'Lincoln'), ('Nelson', 'Mandela'), ('Charles', 'Darwin'), ('Rosa', 'Parks'), ('John', 'Lennon')])"
      ]
     },
     "execution_count": 4,
     "metadata": {},
     "output_type": "execute_result"
    }
   ],
   "source": [
    "#Remove the last item from the dictionary. Print the dictionary.\n",
    "famous.popitem()\n",
    "famous.items()"
   ]
  },
  {
   "cell_type": "markdown",
   "id": "0167bf69",
   "metadata": {},
   "source": [
    "# Advanced Review Exercise #1\n",
    "\n",
    "Create a Mad Libs using Python. Find a Mad Libs template online (this will look like a story that is missing several key words). Use that template to design a program that asks a user for input on all of the missing values within the Mad Libs. Then, once you have all the needed input -- print the Mad Libs using a formatted string. "
   ]
  },
  {
   "cell_type": "code",
   "execution_count": 1,
   "id": "c2ac7e59",
   "metadata": {},
   "outputs": [
    {
     "name": "stdout",
     "output_type": "stream",
     "text": [
      "We are going to create a Mad Libs for a Hedgehog. I need you to supply the following items:\n",
      "please enter an adjective, that is, a descriptive word\tsmelly\n",
      "enter another adjective\thairy\n",
      "this time we need a noun - thing, place, or person\tgarage\n",
      "another noun, please\trefrigerator\n",
      "how about another adjective\tsoft\n",
      "now another noun\tdog\n",
      "this time make it a plural noun\trats\n",
      "back for another adjective\ttiny\n",
      "one more number\t45\n",
      "make this one a color\tblue\n",
      "this is the last number you have to enter\t100\n",
      "another plural noun\tmice\n",
      "out last adjective\tgross\n",
      "how about a place\tcloset\n",
      "what is your favorite color\tgreen\n",
      "last plural noun\tcrows\n",
      "last one! - give me a verb, please\tjump\n"
     ]
    }
   ],
   "source": [
    "#Mad Libs - input portion\n",
    "print (\"We are going to create a Mad Libs for a Hedgehog. I need you to supply the following items:\")\n",
    "adj1 = input(\"please enter an adjective, that is, a descriptive word\\t\")\n",
    "adj2 = input(\"enter another adjective\\t\")\n",
    "n1 = input (\"this time we need a noun - thing, place, or person\\t\")\n",
    "n2 = input(\"another noun, please\\t\")\n",
    "adj3 = input(\"how about another adjective\\t\")\n",
    "n3 = input (\"now another noun\\t\")\n",
    "n4s = input (\"this time make it a plural noun\\t\")\n",
    "adj4 = input (\"back for another adjective\\t\")\n",
    "num1 = int(input(\"one more number\\t\"))\n",
    "color = input(\"make this one a color\\t\")\n",
    "num2 = int(input (\"this is the last number you have to enter\\t\"))\n",
    "n5s = input (\"another plural noun\\t\")\n",
    "adj5 = input (\"out last adjective\\t\")\n",
    "place = input (\"how about a place\\t\")\n",
    "color1 = input (\"what is your favorite color\\t\")\n",
    "n6s = input (\"last plural noun\\t\")\n",
    "verb = input (\"last one! - give me a verb, please\\t\")"
   ]
  },
  {
   "cell_type": "code",
   "execution_count": 2,
   "id": "54e3e6b3",
   "metadata": {},
   "outputs": [
    {
     "name": "stdout",
     "output_type": "stream",
     "text": [
      " Sonic's abode is a very smelly place. At first glance, it seems like a/an hairy cave, but if you look closer, you'll\n",
      "see it's actually a comfortable garage. For one,  Sonic has a super-cozy beanbag refrigerator. When he feels like listening to some soft tunes from the 1980s, \n",
      "Sonic turns on his old-school dog, pulls out his collection of rats, and jams out. In addition to great tunes, Sonic has plenty of tiny equipment to\n",
      "keep himself busy. There's a dryer that Sonic uses as a treadmill to run 45 miles a day. He has an/an blue Ping-Pong table \n",
      "where he plays against . . . himself. His record is 100 wins and zero losses! And for that final touch, Sonic hung mice all over his cave walls. \n",
      "He has a/an gross  photo of the closet next to a/an green poster of crows. It may not be much, but Sonic loves to jump in his cave all the time.\n"
     ]
    }
   ],
   "source": [
    "#the result\n",
    "print (f\"\"\" Sonic's abode is a very {adj1} place. At first glance, it seems like a/an {adj2} cave, but if you look closer, you'll\n",
    "see it's actually a comfortable {n1}. For one,  Sonic has a super-cozy beanbag {n2}. When he feels like listening to some {adj3} tunes from the 1980s, \n",
    "Sonic turns on his old-school {n3}, pulls out his collection of {n4s}, and jams out. In addition to great tunes, Sonic has plenty of {adj4} equipment to\n",
    "keep himself busy. There's a dryer that Sonic uses as a treadmill to run {num1} miles a day. He has an/an {color} Ping-Pong table \n",
    "where he plays against . . . himself. His record is {num2} wins and zero losses! And for that final touch, Sonic hung {n5s} all over his cave walls. \n",
    "He has a/an {adj5}  photo of the {place} next to a/an {color1} poster of {n6s}. It may not be much, but Sonic loves to {verb} in his cave all the time.\"\"\")"
   ]
  },
  {
   "cell_type": "markdown",
   "id": "c0528989",
   "metadata": {},
   "source": [
    "# Advanced Review Exercise #2\n",
    "\n",
    "Create a program where the user can play a game of rock, paper, scissors against a computer. Set a play choice (rock, paper, or scissors) for the computer player and during the program, request for the user to input their play choice.\n",
    "\n",
    "The rules in Rock, Paper, Scissors are:\n",
    "\n",
    "Rock beats scissors\n",
    "Scissors beats paper\n",
    "Paper beats rock\n",
    "If the user wins, then display \"You win!\" If they lose against the computer, then display \"You lose.\" If the computer and the user have the same play choice, display \"It's a draw.\"\n",
    "\n",
    "<b>BONUS</b>: Randomize the play choice for the computer (hint: Python has a library called random). Also ask the user if they would like to play again. If they do, start the game again but if not, thank the user for playing the game."
   ]
  },
  {
   "cell_type": "code",
   "execution_count": 1,
   "id": "b9be7052",
   "metadata": {},
   "outputs": [
    {
     "name": "stdout",
     "output_type": "stream",
     "text": [
      "Enter your choice, Rock, Paper or Scissors.Use 'q' to stop the game\tRock\n",
      "It's a draw\n",
      "My choice was Rock and the computer chose Rock\n",
      "Enter your choice, Rock, Paper or Scissors.Use 'q' to stop the game\tPaper\n",
      "I lost\n",
      "My choice was Paper and the computer chose Scissors\n",
      "Enter your choice, Rock, Paper or Scissors.Use 'q' to stop the game\tScissors\n",
      "I win\n",
      "My choice was Scissors and the computer chose Paper\n",
      "Enter your choice, Rock, Paper or Scissors.Use 'q' to stop the game\tq\n",
      "Game stopped\n"
     ]
    }
   ],
   "source": [
    "#Game of Rock, Paper,Scissors\n",
    "import random as r2d2\n",
    "\n",
    "# Rock beats Scissors (1 beats 3)\n",
    "#Scissors beats Paper (3 beats 2)\n",
    "# Paper beats Rock (2 beats 1)\n",
    "\n",
    "again = True\n",
    "\n",
    "while again:\n",
    "    my_input = input(\"Enter your choice, Rock, Paper or Scissors.Use 'q' to stop the game\\t\")\n",
    "    if my_input == \"q\":\n",
    "        again = False\n",
    "        print (\"Game stopped\")\n",
    "        break\n",
    "    if my_input == \"Rock\":\n",
    "        my_play = 1\n",
    "    elif my_input == \"Paper\":\n",
    "        my_play = 2\n",
    "    else:\n",
    "        my_play = 3\n",
    "\n",
    "    computer_play = r2d2.randint(1,3)\n",
    "\n",
    "    if (my_play == 1 and computer_play == 3): \n",
    "        print (\"I win\")\n",
    "    elif (my_play == 3 and computer_play == 2):\n",
    "        print (\"I win\")\n",
    "    elif (my_play == 2 and computer_play == 1):\n",
    "        print (\"I win\")\n",
    "    elif (my_play == computer_play):\n",
    "        print (\"It's a draw\")\n",
    "    else:\n",
    "        print (\"I lost\")\n",
    "    if computer_play ==1:\n",
    "        choice = \"Rock\"\n",
    "    elif computer_play == 2:\n",
    "        choice = \"Paper\"\n",
    "    else:\n",
    "        choice = \"Scissors\"\n",
    "    print (f\"My choice was {my_input} and the computer chose {choice}\")"
   ]
  },
  {
   "cell_type": "code",
   "execution_count": null,
   "id": "49b30079",
   "metadata": {},
   "outputs": [],
   "source": []
  },
  {
   "cell_type": "markdown",
   "id": "2ac716f5",
   "metadata": {},
   "source": [
    "# Advanced Review #3\n",
    "\n",
    "Create a program similar to the gameshow \"Who Wants to Be a Millionaire!\". Start by asking the user for their name, greeting them, and using their specific name throughout the program. \n",
    "\n",
    "Create a trivia program where a user is presented with a series of questions and asked to enter a response; if the response if correct, the user gains 100 points; if the response is incorrect, the user gets an \"X\" and does not gain any additional points. If the user gets 3 X's, they lose! Ask the user at least 15 questions. At the end of the game, calculate the users total score and present the answer to the user. \n",
    "\n",
    "Use the following source for trivia questions: https://www.opinionstage.com/blog/trivia-questions/"
   ]
  },
  {
   "cell_type": "code",
   "execution_count": null,
   "id": "d98f644a",
   "metadata": {},
   "outputs": [],
   "source": [
    "## Trivia Game - this is the simplest version\n",
    "#Ask for the player's name\n",
    "player = input(\"What is your name?\")\n",
    "print (f\"Hello, {player}. Are you ready to play?\\n\")\n",
    "print (\"\"\"Here are the rules: Each correct answer is worth 100 points. A wrong answer earns you an X. \n",
    "If you earn three Xs before we get to the end of 15 questions, you are out of the game\\n\\n\"\"\")\n",
    "score = 0\n",
    "question_pool1 = {1: \"What is the name of the home of the Greek Gods?\", \n",
    "                 2: \"Which warrior's weakness was their heel?\", \n",
    "                 3: \"Who was the messenger of the gods?\" , \n",
    "                 4: \"What's the name of the paradise warriors go to after death?\", \n",
    "                 5:\"Thor was the son of which God?\" , \n",
    "                 6:\"Romulus and Remus were raised by what animal?\",\n",
    "                 7:\"The Roman God of War inspired the name of which planet?\",\n",
    "                 8:\"What was the name of the Egyptian God of the Sun?\" , \n",
    "                 9:\"Anubis, the God of Death, had the head of what animal?\",\n",
    "                 10:\"Which American state is the largest by area?\",\n",
    "                 11: \"What is the capital of New Zealand\",\n",
    "                 12:\"What is the smallest country in the world\" ,\n",
    "                 13:\"Whick continent is the largest?\" ,\n",
    "                 14:\"What is the name of the longest river?\" ,\n",
    "                 15:\"In which city in India would you find the Taj Mahal?\"}\n",
    "\n",
    "answer_set1  = {1: \"OLYMPUS\" , 2: \"ACHILLES\", 3:\"HERMES\" , 4: \"VAHALLA\", \n",
    "                5:\"ODIN\" , 6: \"SHE-WOLF\" , 7:\"MARS\", 8:\"RA\", \n",
    "               9:\"JACKAL\", 10:\"ALASKA\" , 11:\"WELLINGTON\" , 12:\"VATICAN CITY\", \n",
    "                13:\"ASIA\" , 14:\"NILE\" , 15:\"AGRA\"}\n",
    "\n",
    "misses = 0\n",
    "x = 1\n",
    "while misses < 3 and x <= 15:\n",
    "    print (f\"Question {x} {question_pool1[x]}\")\n",
    "    player_answer = input(\"Your answer is\\t\")\n",
    "#convert the answer to all upper case  to avoid natural differences in the way the answer is typed in\n",
    "    player_answer = player_answer.upper()\n",
    "\n",
    "    if player_answer == answer_set1[x]:\n",
    "        score += 100\n",
    "    else:\n",
    "        misses += 1\n",
    "        if misses >= 3:\n",
    "            print (\"Game over - too many misses\")\n",
    "            break\n",
    "    x += 1\n",
    "print (f\"You earned a total of {score} points from the {x-1} questions you answered. You missed {misses} questions\")"
   ]
  },
  {
   "cell_type": "code",
   "execution_count": 8,
   "id": "334a743e",
   "metadata": {},
   "outputs": [
    {
     "name": "stdout",
     "output_type": "stream",
     "text": [
      "What is your name?\tBilly\n",
      "Hello, Billy. Are you ready to play?\n",
      "\n",
      "Here are the rules: Each correct answer is worth 100 points. A wrong answer earns you an X. \n",
      "If you earn three Xs before we get to the end of 15 questions, you are out of the game\n",
      "\n",
      "\n",
      "Question Which American state is the largest by area?\n",
      "Your answer is?\t\n",
      "Texas\n",
      "Question Romulus and Remus were raised by what animal?\n",
      "Your answer is?\t\n",
      "wolf\n",
      "Question The Roman God of War inspired the name of which planet?\n",
      "Your answer is?\t\n",
      "Mars\n",
      "Question Whick auto brand was the first to offer seat belts?\n",
      "Your answer is?\t\n",
      "Nash\n",
      "Question What is the name of the longest river?\n",
      "Your answer is?\t\n",
      "Nile\n",
      "\n",
      "You earned a total of 300 points from the 5 questions you answered. You missed 2 questions\n"
     ]
    }
   ],
   "source": [
    "## Trivia Game - this is the more complex version with random questions pulled from the pool\n",
    "##When testing this I set the question count to 5 so that I did not have to potentially go through all 15 questions.\n",
    "\n",
    "import random as rd\n",
    "#Ask for the player's name\n",
    "player = input(\"What is your name?\\t\")\n",
    "print (f\"Hello, {player}. Are you ready to play?\\n\")\n",
    "print (\"\"\"Here are the rules: Each correct answer is worth 100 points. A wrong answer earns you an X. \n",
    "If you earn three Xs before we get to the end of 15 questions, you are out of the game\\n\\n\"\"\")\n",
    "\n",
    "question_pool = {1: \"What is the name of the home of the Greek Gods?\", \n",
    "                 2: \"Which warrior's weakness was their heel?\", \n",
    "                 3: \"Who was the messenger of the gods?\" , \n",
    "                 4: \"What's the name of the paradise warriors go to after death?\", \n",
    "                 5:\"Thor was the son of which God?\" , \n",
    "                 6:\"Romulus and Remus were raised by what animal?\",\n",
    "                 7:\"The Roman God of War inspired the name of which planet?\",\n",
    "                 8:\"What was the name of the Egyptian God of the Sun?\" , \n",
    "                 9:\"Anubis, the God of Death, had the head of what animal?\",\n",
    "                 10:\"Which American state is the largest by area?\",\n",
    "                 11: \"What is the capital of New Zealand\",\n",
    "                 12:\"What is the smallest country in the world\" ,\n",
    "                 13:\"Whick continent is the largest?\" ,\n",
    "                 14:\"What is the name of the longest river?\" ,\n",
    "                 15:\"In which city in India would you find the Taj Mahal?\",\n",
    "                 16:\"What is the name of the song that Queen Elsa sings as she builds her ice castle in the movie Frozen?\" ,\n",
    "                 17:\"In how many films die Sean Connery play James Bond?\" ,\n",
    "                 18:\"How many Lord of the Rings films are there?\" ,\n",
    "                 19:\"Which animal can be seen on the Porsche logo?\" ,\n",
    "                 20:\"Whick company own Bugatti, Lamborghini, Audi, Porsche, and Ducati?\" ,\n",
    "                 21:\"Whick auto brand was the first to offer seat belts?\" ,\n",
    "                 22:\"In what year was the Corvette introduced?\" ,\n",
    "                 23:\"What planet is the hottest in the solar system?\" ,\n",
    "                 24:\"Whick natural disaster is measured with a Richter scale?\" ,\n",
    "                 25:\"In what animals are pearls found?\" ,\n",
    "                 26:\"Which planet has the most gravity\" ,\n",
    "                 27: \"How many molecules does ozone have?\",\n",
    "                 28:\"Which email service is owned by Microsoft?\" , \n",
    "                 29:\"Is Python a type of OS?\" , \n",
    "                 30: \"What is the smallest unit of computer memory?\"}\n",
    "\n",
    "answer_set  = {1: \"OLYMPUS\" , 2: \"ACHILLES\", 3:\"HERMES\" , 4: \"VAHALLA\", \n",
    "                5:\"ODIN\" , 6: \"SHE-WOLF\" , 7:\"MARS\", 8:\"RA\", \n",
    "               9:\"JACKAL\", 10:\"ALASKA\" , 11:\"WELLINGTON\" , 12:\"VATICAN CITY\",\n",
    "               13:\"ASIA\" , 14:\"NILE\" , 15:\"AGRA\",16:\"LET IT GO\", 17:\"7\" ,18:\"3\" ,19:\"HORSE\" ,20:\"VOLKSWAGEN\" ,\n",
    "               21:\"NASH\" ,22:\"1953\" ,23:\"VENUS\" ,24:\"EARTHQUAKES\" , 25:\"OYSTERS\" ,\n",
    "               26:\"JUPITER\" ,27:\"3\",28:\"HOTMAIL\" , 29:\"NO\" , 30:\"BYTE\"}\n",
    "score = 0\n",
    "misses = 0\n",
    "count = 1\n",
    "x = 1\n",
    "\n",
    "# initialize an empty list to keep track of the random numbers already used. These are the keys and we don't want to repeat a question\n",
    "used_numbers = [] \n",
    "\n",
    "while misses < 3 and x <= 15:\n",
    "# generate a random key\n",
    "    y = rd.randint(1,30)\n",
    "    \n",
    "#check to see if this key was already used. If so, skip and go on to the next random question.    \n",
    "    if not y in used_numbers: \n",
    "        used_numbers.append(y)  #add this key to the used list\n",
    "#increment the number of questions counter \n",
    "        x += 1      \n",
    "#select and print the question and get the user's input\n",
    "        print (f\"Question {question_pool[y]}\")      \n",
    "        player_answer = input(\"Your answer is?\\t\\n\")\n",
    "\n",
    "#convert the answer to all upper case  to avoid natural differences in the way the answer is typed in\n",
    "        player_answer = player_answer.upper()\n",
    "\n",
    "#check to see if the answer matches the answers\n",
    "        if player_answer == answer_set[y]:\n",
    "            score += 100\n",
    "        else:\n",
    "            misses += 1\n",
    "            if misses >= 3:\n",
    "                print (\"Game over - too many misses\")\n",
    "                break\n",
    "    \n",
    "print (f\"\\nYou earned a total of {score} points from the {x-1} questions you answered. You missed {misses} questions\")"
   ]
  },
  {
   "cell_type": "code",
   "execution_count": null,
   "id": "6001b666",
   "metadata": {},
   "outputs": [],
   "source": []
  },
  {
   "cell_type": "code",
   "execution_count": null,
   "id": "0ebedc33",
   "metadata": {},
   "outputs": [],
   "source": []
  }
 ],
 "metadata": {
  "kernelspec": {
   "display_name": "Python 3",
   "language": "python",
   "name": "python3"
  },
  "language_info": {
   "codemirror_mode": {
    "name": "ipython",
    "version": 3
   },
   "file_extension": ".py",
   "mimetype": "text/x-python",
   "name": "python",
   "nbconvert_exporter": "python",
   "pygments_lexer": "ipython3",
   "version": "3.8.8"
  }
 },
 "nbformat": 4,
 "nbformat_minor": 5
}
